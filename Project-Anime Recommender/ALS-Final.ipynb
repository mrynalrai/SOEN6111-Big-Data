{
 "cells": [
  {
   "cell_type": "code",
   "execution_count": 1,
   "id": "64c6a67a",
   "metadata": {},
   "outputs": [
    {
     "name": "stderr",
     "output_type": "stream",
     "text": [
      "Warning: Ignoring non-Spark config property: some config\n",
      "Setting default log level to \"WARN\".\n",
      "To adjust logging level use sc.setLogLevel(newLevel). For SparkR, use setLogLevel(newLevel).\n",
      "22/04/06 13:08:37 INFO org.apache.spark.SparkEnv: Registering MapOutputTracker\n",
      "22/04/06 13:08:37 INFO org.apache.spark.SparkEnv: Registering BlockManagerMaster\n",
      "22/04/06 13:08:38 INFO org.apache.spark.SparkEnv: Registering BlockManagerMasterHeartbeat\n",
      "22/04/06 13:08:38 INFO org.apache.spark.SparkEnv: Registering OutputCommitCoordinator\n"
     ]
    }
   ],
   "source": [
    "# Importing relevant libraries\n",
    "import os\n",
    "import sys\n",
    "from pyspark.rdd import RDD\n",
    "from pyspark.sql import Row\n",
    "from pyspark.sql import DataFrame\n",
    "from pyspark.sql import SparkSession\n",
    "from pyspark.sql.functions import lit\n",
    "from pyspark.sql.functions import desc\n",
    "from pyspark.ml.evaluation import RegressionEvaluator\n",
    "from pyspark.ml.recommendation import ALS\n",
    "from pyspark.sql.functions import avg\n",
    "import cloudpickle\n",
    "import pickle\n",
    "import pyspark.serializers\n",
    "pyspark.serializers.cloudpickle = cloudpickle\n",
    "\n",
    "spark = SparkSession \\\n",
    "        .builder \\\n",
    "        .appName(\"Python Spark SQL basic example\") \\\n",
    "        .config(\"some config\", \"value\") \\\n",
    "        .getOrCreate()"
   ]
  },
  {
   "cell_type": "code",
   "execution_count": 2,
   "id": "b3afe800",
   "metadata": {},
   "outputs": [
    {
     "name": "stderr",
     "output_type": "stream",
     "text": [
      "[Stage 0:>                                                          (0 + 1) / 1]\r"
     ]
    },
    {
     "name": "stdout",
     "output_type": "stream",
     "text": [
      "+-------+--------+------+\n",
      "|user_id|anime_id|rating|\n",
      "+-------+--------+------+\n",
      "|      0|     430|   9.0|\n",
      "|      0|    1004|   5.0|\n",
      "|      0|    3010|   7.0|\n",
      "|      0|     570|   7.0|\n",
      "|      0|    2762|   9.0|\n",
      "|      0|     431|   8.0|\n",
      "|      0|     578|  10.0|\n",
      "|      0|     433|   6.0|\n",
      "|      0|    1571|  10.0|\n",
      "|      0|     121|   9.0|\n",
      "+-------+--------+------+\n",
      "only showing top 10 rows\n",
      "\n"
     ]
    },
    {
     "name": "stderr",
     "output_type": "stream",
     "text": [
      "                                                                                \r"
     ]
    },
    {
     "data": {
      "text/plain": [
       "DataFrame[user_id: int, anime_id: int, rating: float]"
      ]
     },
     "execution_count": 2,
     "metadata": {},
     "output_type": "execute_result"
    }
   ],
   "source": [
    "# Create Ratings Dataframe which contains user_id, anime_id and rating\n",
    "from pyspark.sql.types import StructType, StructField, IntegerType, FloatType\n",
    "schema = StructType([ \\\n",
    "                     StructField(\"user_id\", IntegerType(), True), \\\n",
    "                     StructField(\"anime_id\", IntegerType(), True),\\\n",
    "                    StructField(\"rating\", FloatType(), True)])\n",
    "ratings = spark.read.schema(schema).option(\"header\",\"true\").csv(\"gs://big_datat/rating_complete.csv\")\n",
    "schema = StructType([ \\\n",
    "                     StructField(\"user_id\", IntegerType(), True), \\\n",
    "                     StructField(\"anime_id\", IntegerType(), True),\\\n",
    "                    StructField(\"rating\", FloatType(), True)])\n",
    "ratings.show(10)\n",
    "ratings"
   ]
  },
  {
   "cell_type": "code",
   "execution_count": 3,
   "id": "4019be48",
   "metadata": {},
   "outputs": [
    {
     "name": "stderr",
     "output_type": "stream",
     "text": [
      "[Stage 1:==========================================>                (5 + 2) / 7]\r"
     ]
    },
    {
     "name": "stdout",
     "output_type": "stream",
     "text": [
      "+-------+------------------+------------------+------------------+\n",
      "|summary|           user_id|          anime_id|            rating|\n",
      "+-------+------------------+------------------+------------------+\n",
      "|  count|          57633278|          57633278|          57633278|\n",
      "|   mean| 176887.7657645987|15831.466092679997| 7.510788732162693|\n",
      "| stddev|102011.65082361008|13261.135175368776|1.6977223721477408|\n",
      "|    min|                 0|                 1|               1.0|\n",
      "|    max|            353404|             48456|              10.0|\n",
      "+-------+------------------+------------------+------------------+\n",
      "\n"
     ]
    },
    {
     "name": "stderr",
     "output_type": "stream",
     "text": [
      "                                                                                \r"
     ]
    }
   ],
   "source": [
    "# Dataframe.describe() gives the descriptive statistics of each column. The descriptive statistics include\n",
    "# Count – Count of values of each column\n",
    "# Mean – Mean value of each column\n",
    "# Stddev – standard deviation of each column\n",
    "# Min – Minimum value of each column\n",
    "# Max – Maximum value of each column\n",
    "ratings.describe().show()"
   ]
  },
  {
   "cell_type": "code",
   "execution_count": 4,
   "id": "5724d967",
   "metadata": {},
   "outputs": [
    {
     "name": "stderr",
     "output_type": "stream",
     "text": [
      "[Stage 4:===================================================>       (7 + 1) / 8]\r"
     ]
    },
    {
     "name": "stdout",
     "output_type": "stream",
     "text": [
      "+-------+------------------+\n",
      "|summary|            rating|\n",
      "+-------+------------------+\n",
      "|  count|          57633278|\n",
      "|   mean| 7.510788732162693|\n",
      "| stddev|1.6977223721477468|\n",
      "|    min|               1.0|\n",
      "|    max|              10.0|\n",
      "+-------+------------------+\n",
      "\n"
     ]
    },
    {
     "name": "stderr",
     "output_type": "stream",
     "text": [
      "                                                                                \r"
     ]
    }
   ],
   "source": [
    "# summary statistics of a column rating\n",
    "ratings.select('rating').describe().show()"
   ]
  },
  {
   "cell_type": "code",
   "execution_count": 5,
   "id": "11f3c7ac",
   "metadata": {},
   "outputs": [
    {
     "name": "stderr",
     "output_type": "stream",
     "text": [
      "[Stage 7:===================================================>       (7 + 1) / 8]\r"
     ]
    },
    {
     "name": "stdout",
     "output_type": "stream",
     "text": [
      "+-------+--------+------+\n",
      "|user_id|anime_id|rating|\n",
      "+-------+--------+------+\n",
      "|      0|       0|     0|\n",
      "+-------+--------+------+\n",
      "\n"
     ]
    },
    {
     "name": "stderr",
     "output_type": "stream",
     "text": [
      "                                                                                \r"
     ]
    }
   ],
   "source": [
    "# Find Count of Null, None, NaN of All DataFrame Columns\n",
    "from pyspark.sql.functions import col,isnan, when, count\n",
    "ratings.select([count(when(isnan(c) | col(c).isNull(), c)).alias(c) for c in ratings.columns]\n",
    "   ).show()"
   ]
  },
  {
   "cell_type": "code",
   "execution_count": 6,
   "id": "0d184e10",
   "metadata": {},
   "outputs": [
    {
     "name": "stderr",
     "output_type": "stream",
     "text": [
      "[Stage 16:===========================================>              (3 + 1) / 4]\r"
     ]
    },
    {
     "name": "stdout",
     "output_type": "stream",
     "text": [
      "+-------+--------+-----+\n",
      "|user_id|anime_id|count|\n",
      "+-------+--------+-----+\n",
      "+-------+--------+-----+\n",
      "\n"
     ]
    },
    {
     "name": "stderr",
     "output_type": "stream",
     "text": [
      "                                                                                \r"
     ]
    }
   ],
   "source": [
    "# Check for duplicate user_id-anime_id pairs \n",
    "ratings.groupBy(\"user_id\",\"anime_id\").count().filter(\"count > 1\").show()\n",
    "#df1.drop('count').show()"
   ]
  },
  {
   "cell_type": "code",
   "execution_count": 7,
   "id": "1d59aeb6",
   "metadata": {},
   "outputs": [
    {
     "name": "stderr",
     "output_type": "stream",
     "text": [
      "[Stage 23:==================================================>       (7 + 1) / 8]\r"
     ]
    },
    {
     "name": "stdout",
     "output_type": "stream",
     "text": [
      "Total No of Users  : 310059\n",
      "Total No of Animes : 16872\n"
     ]
    },
    {
     "name": "stderr",
     "output_type": "stream",
     "text": [
      "                                                                                \r"
     ]
    }
   ],
   "source": [
    "# Count the total number of users and total number of animes in ratings dataset\n",
    "total_users = ratings.select(['user_id']).distinct().count()\n",
    "total_animes = ratings.select(['anime_id']).distinct().count()\n",
    "\n",
    "print(\"Total No of Users  :\", total_users)\n",
    "print(\"Total No of Animes :\", total_animes)"
   ]
  },
  {
   "cell_type": "code",
   "execution_count": 8,
   "id": "181c2b2f",
   "metadata": {},
   "outputs": [],
   "source": [
    "# Calculate the Sparsity of Utility Matrix\n",
    "\n",
    "def sparsity(ratings):\n",
    "    # Count the number of ratings in the rating dataframe\n",
    "    rating_count = ratings.select(\"rating\").count()\n",
    "    \n",
    "    # Total Number of distinct users and animes\n",
    "    total_element = ratings.select(\"user_id\").distinct().count()*ratings.select(\"anime_id\").distinct().count()\n",
    "    \n",
    "    # Calculate  % Sparsity of Matrix Fomrula (1-(rating_count)/(total_element))*100\n",
    "    sparsity = (1-(rating_count)/total_element)*100\n",
    "    print(\" The rating dataframe is \", \"%.2f\" % sparsity +\"% sparse\")\n",
    "    "
   ]
  },
  {
   "cell_type": "code",
   "execution_count": 9,
   "id": "da590454",
   "metadata": {},
   "outputs": [
    {
     "name": "stderr",
     "output_type": "stream",
     "text": [
      "[Stage 38:===========================================>              (6 + 2) / 8]\r"
     ]
    },
    {
     "name": "stdout",
     "output_type": "stream",
     "text": [
      " The rating dataframe is  98.90% sparse\n"
     ]
    },
    {
     "name": "stderr",
     "output_type": "stream",
     "text": [
      "                                                                                \r"
     ]
    }
   ],
   "source": [
    "sparsity(ratings)\n",
    "#Our Matrix is 98.90 % parse"
   ]
  },
  {
   "cell_type": "code",
   "execution_count": 10,
   "id": "815cc477",
   "metadata": {},
   "outputs": [],
   "source": [
    "# Split the ratings data into train and test\n",
    "(train, test) = ratings.randomSplit([0.8,0.2], seed=2000)"
   ]
  },
  {
   "cell_type": "code",
   "execution_count": 11,
   "id": "f2b03dcf",
   "metadata": {},
   "outputs": [
    {
     "name": "stderr",
     "output_type": "stream",
     "text": [
      "[Stage 56:==================================================>       (7 + 1) / 8]\r"
     ]
    },
    {
     "name": "stdout",
     "output_type": "stream",
     "text": [
      "Total No of Users in Training Data : 308702\n",
      "Total No of Animes in Training Data : 16858\n",
      "Total No of Ratings in Training Data : 46099697\n"
     ]
    },
    {
     "name": "stderr",
     "output_type": "stream",
     "text": [
      "                                                                                \r"
     ]
    }
   ],
   "source": [
    "# Basic Statistics in Training Data\n",
    "total_users = train.select(['user_id']).distinct().count()\n",
    "total_animes = train.select(['anime_id']).distinct().count()\n",
    "total_rating = train.count()\n",
    "\n",
    "print(\"Total No of Users in Training Data :\", total_users)\n",
    "print(\"Total No of Animes in Training Data :\", total_animes)\n",
    "print(\"Total No of Ratings in Training Data :\", total_rating)\n"
   ]
  },
  {
   "cell_type": "code",
   "execution_count": 12,
   "id": "56ef7a3c",
   "metadata": {},
   "outputs": [
    {
     "name": "stderr",
     "output_type": "stream",
     "text": [
      "                                                                                \r"
     ]
    }
   ],
   "source": [
    "import seaborn as sns\n",
    "import matplotlib.pyplot as plt\n",
    "import matplotlib.ticker as mticker\n",
    "sns.set_style('whitegrid')\n",
    "# Converting Pyspark DF to Pandas for visualization purpose\n",
    "trainpd = train.toPandas()"
   ]
  },
  {
   "cell_type": "code",
   "execution_count": 13,
   "id": "3b1b9abb",
   "metadata": {},
   "outputs": [],
   "source": [
    "# Method to make y-axis more readable\n",
    "def human(num, units = 'M'):\n",
    "    units = units.lower()\n",
    "    num = float(num)\n",
    "    if units == 'k':\n",
    "        return str(num/10**3) + \" K\"\n",
    "    elif units == 'm':\n",
    "        return str(num/10**6) + \" M\"\n",
    "    elif units == 'b':\n",
    "        return str(num/10**9) +  \" B\""
   ]
  },
  {
   "cell_type": "code",
   "execution_count": 14,
   "id": "852c11cf",
   "metadata": {},
   "outputs": [
    {
     "data": {
      "image/png": "[encoded data removed]",
      "text/plain": [
       "<Figure size 720x432 with 1 Axes>"
      ]
     },
     "metadata": {},
     "output_type": "display_data"
    }
   ],
   "source": [
    "# Make the chart for numbers of ratings in Train Dataframe\n",
    "fig, ax = plt.subplots(figsize = (10, 6))\n",
    "plt.title('Distribution of Ratings over Training Dataset', fontsize=15)\n",
    "sns.countplot(x = trainpd.rating)\n",
    "ticks_loc = ax.get_yticks().tolist()\n",
    "ax.yaxis.set_major_locator(mticker.FixedLocator(ticks_loc))\n",
    "ax.set_yticklabels([human(item, 'M') for item in ax.get_yticks()])\n",
    "plt.xlabel('Ratings')\n",
    "plt.ylabel('Number of Ratings')\n",
    "plt.show()"
   ]
  },
  {
   "cell_type": "code",
   "execution_count": 15,
   "id": "1da2a45a",
   "metadata": {},
   "outputs": [
    {
     "name": "stderr",
     "output_type": "stream",
     "text": [
      "[Stage 62:=============================================>            (7 + 2) / 9]\r"
     ]
    },
    {
     "name": "stdout",
     "output_type": "stream",
     "text": [
      "+-------+---------+\n",
      "|user_id|Frequency|\n",
      "+-------+---------+\n",
      "| 189037|    12292|\n",
      "| 162615|    11817|\n",
      "|  68042|    10790|\n",
      "| 283786|    10150|\n",
      "| 259790|     8058|\n",
      "| 291207|     7695|\n",
      "| 182280|     7658|\n",
      "| 277841|     7039|\n",
      "| 336459|     6897|\n",
      "|  10255|     6567|\n",
      "| 312302|     6416|\n",
      "| 328195|     6226|\n",
      "| 300428|     5928|\n",
      "| 276953|     5831|\n",
      "| 190748|     5643|\n",
      "| 345498|     5532|\n",
      "|  64807|     5386|\n",
      "|  85106|     5182|\n",
      "| 122341|     5148|\n",
      "| 299795|     4935|\n",
      "+-------+---------+\n",
      "only showing top 20 rows\n",
      "\n"
     ]
    },
    {
     "name": "stderr",
     "output_type": "stream",
     "text": [
      "                                                                                \r"
     ]
    }
   ],
   "source": [
    "# Calculating maximum number of animes rated by a single user\n",
    "import pyspark.sql.functions as F\n",
    "no_of_rated_anime_per_user = train.groupBy('user_id').agg(F.count('*').alias('Frequency')).orderBy('Frequency',ascending=0)\n",
    "no_of_rated_anime_per_user.show()\n",
    "# From the below code cell, we can observe that the maximum number of animes rated by a single user as per our dataset is 12292"
   ]
  },
  {
   "cell_type": "code",
   "execution_count": 16,
   "id": "6d37ea10",
   "metadata": {},
   "outputs": [
    {
     "data": {
      "image/png": "[encoded data removed]",
      "text/plain": [
       "<Figure size 864x432 with 1 Axes>"
      ]
     },
     "metadata": {},
     "output_type": "display_data"
    }
   ],
   "source": [
    "# Analysis of ratings of an anime given by a user\n",
    "\n",
    "no_of_ratings_per_anime = trainpd.groupby(by='anime_id')['rating'].count().sort_values(ascending=False)\n",
    "\n",
    "fig = plt.figure(figsize = (12, 6))\n",
    "ax = plt.gca()\n",
    "plt.plot(no_of_ratings_per_anime.values)\n",
    "plt.title('# Ratings/Anime')\n",
    "plt.xlabel('Anime')\n",
    "plt.ylabel('No of Users who rated Anime')\n",
    "ax.set_xticklabels([])\n",
    "plt.show()\n",
    "\n",
    "# It is very skewed, just like the number of ratings given per user.\n",
    "# There are some animes (which are very popular) which are rated by huge number of users.\n",
    "# But most of the animes(like 90%) got some hundreds of ratings only."
   ]
  },
  {
   "cell_type": "code",
   "execution_count": 17,
   "id": "b756f51e",
   "metadata": {},
   "outputs": [],
   "source": [
    "# Import the required functions\n",
    "# from pyspark.ml.recommendation import ALS\n",
    "# Create ALS model for using with Cross Validator\n",
    "# userCol is user_id, item Col is anime_id, ratingCol is rating in our ratings Dataframe,\n",
    "# Set nonnegative is True because we are working with ratings greater than zero\n",
    "# We have the rating values explicitly given by users so setting up implicitPrefs to False\n",
    "# By default, Spark assigns NaN predictions during ALSModel.transform when a user and/or item factor is not present in the model.\n",
    "# We set cold start strategy to ‘drop’ to ensure we don’t get NaN evaluation metrics\n",
    "# als = ALS(\n",
    "#          userCol=\"user_id\", \n",
    "#          itemCol=\"anime_id\",\n",
    "#          ratingCol=\"rating\", \n",
    "#          nonnegative = True, \n",
    "#          implicitPrefs = False,\n",
    "#          coldStartStrategy=\"drop\"\n",
    "# )\n"
   ]
  },
  {
   "cell_type": "code",
   "execution_count": 18,
   "id": "57822aa0-4113-474a-b674-b6648dfa72be",
   "metadata": {},
   "outputs": [],
   "source": [
    "# Import the required functions\n",
    "# from pyspark.ml.evaluation import RegressionEvaluator\n",
    "# from pyspark.ml.tuning import ParamGridBuilder, CrossValidator\n",
    "\n",
    "# Defining Parameters using ParamGridBuilder\n",
    "# Below values will results in  models\n",
    "# param_grid = ParamGridBuilder().addGrid(als.rank, [5,10,20])\\\n",
    "#                                .addGrid(als.maxIter[5,50,150])\n",
    "#                                 .addGrid(als.regParam, [0.1,0.01]).build()\n",
    "# Build cross validation using CrossValidator\n",
    "# estimater is the als model we created\n",
    "# estimatortParamMaps is param_grid options created\n",
    "# create evaluator, we are using rmse as evaluation function\n",
    "# evaluator = RegressionEvaluator(metricName=\"rmse\", labelCol=\"rating\", predictionCol=\"prediction\") \n",
    "# cv = CrossValidator(estimator=als, estimatorParamMaps=param_grid, evaluator=evaluator, numFolds=3)\n",
    "# model = als.fit(train)\n",
    "\n",
    "# Note: RMSE obtained from the above hyper-parameter tuning is 1.174163811242912 which we will be using in our next steps\n",
    "# This code is being commented because of hardware shortage on our laptops to train number of models on entire dataset\n",
    "# We will create new model with the best hyper-parameter values obtained from this step which is \n",
    "# maxIter=10\n",
    "# regParam = 0.01,\n",
    "# rank=50"
   ]
  },
  {
   "cell_type": "code",
   "execution_count": 19,
   "id": "d3423b3a-18c4-4ad4-b99d-814b8a9fff8d",
   "metadata": {},
   "outputs": [],
   "source": [
    "# Create ALS Model without implementation of bias with the best parameter obtained using hyperparameter tuning\n",
    "alsWithOutBias = ALS(maxIter=10, regParam = 0.01, userCol = \"user_id\",rank=50, itemCol = \"anime_id\", ratingCol = \"rating\", coldStartStrategy=\"drop\")"
   ]
  },
  {
   "cell_type": "code",
   "execution_count": 20,
   "id": "21dd6aac-7305-4d70-a9ba-a32cfb1fbd39",
   "metadata": {},
   "outputs": [
    {
     "name": "stderr",
     "output_type": "stream",
     "text": [
      "                                                                                \r"
     ]
    }
   ],
   "source": [
    "# Train the model with train dataframe obtained after split\n",
    "modelWithOutBias = alsWithOutBias.fit(train)"
   ]
  },
  {
   "cell_type": "code",
   "execution_count": 21,
   "id": "4fa74d57-4221-4296-83bf-56febb0fa271",
   "metadata": {},
   "outputs": [],
   "source": [
    "# Define evaluator as RMSE\n",
    "evaluatorWithOutBias = RegressionEvaluator(metricName=\"rmse\", labelCol=\"rating\", predictionCol=\"prediction\")"
   ]
  },
  {
   "cell_type": "code",
   "execution_count": 22,
   "id": "cf4941c5-57ff-4e81-9884-e74379ae6c84",
   "metadata": {},
   "outputs": [],
   "source": [
    "# Get the predictions for the test data using the trained model\n",
    "predictionsWithOutBias = modelWithOutBias.transform(test)\n"
   ]
  },
  {
   "cell_type": "code",
   "execution_count": 23,
   "id": "817aef51-4448-483b-a1e2-5778799e7063",
   "metadata": {},
   "outputs": [
    {
     "name": "stderr",
     "output_type": "stream",
     "text": [
      "[Stage 170:==================================================>      (8 + 1) / 9]\r"
     ]
    },
    {
     "name": "stdout",
     "output_type": "stream",
     "text": [
      "1.1753068495143109\n"
     ]
    },
    {
     "name": "stderr",
     "output_type": "stream",
     "text": [
      "                                                                                \r"
     ]
    }
   ],
   "source": [
    "# Compute the RMSE by comparing rating and prediction values\n",
    "RMSEWithOutBias = evaluatorWithOutBias.evaluate(predictionsWithOutBias)\n",
    "print(RMSEWithOutBias)"
   ]
  },
  {
   "cell_type": "code",
   "execution_count": 24,
   "id": "a070dde2-4408-4a12-9d41-d83833ca680b",
   "metadata": {},
   "outputs": [
    {
     "name": "stderr",
     "output_type": "stream",
     "text": [
      "                                                                                \r"
     ]
    },
    {
     "name": "stdout",
     "output_type": "stream",
     "text": [
      "+--------+-------+------+-----------------+-----------------+---------------------+\n",
      "|anime_id|user_id|rating|        user_mean|        item_mean|user_item_interaction|\n",
      "+--------+-------+------+-----------------+-----------------+---------------------+\n",
      "|   30654|    463|   7.0| 7.61864406779661|8.529941048712379|  -1.6378708920749325|\n",
      "|    1829|    496|   5.0|            7.216|7.029735442023176|  -1.7350212175891189|\n",
      "|    8086|    833|   9.0|7.851851851851852|7.701104746317513|   0.9577576262646907|\n",
      "|    9465|    833|   7.0|7.851851851851852|7.943735171167099|   -1.284872798584896|\n",
      "|   30654|   1088|   9.0|9.185185185185185|8.529941048712379|   -1.204412009463507|\n",
      "+--------+-------+------+-----------------+-----------------+---------------------+\n",
      "only showing top 5 rows\n",
      "\n"
     ]
    }
   ],
   "source": [
    "from pyspark.sql.functions import avg\n",
    "## Calculating user-item interaction\n",
    "\n",
    "# Calculate User Mean\n",
    "userMeanDF = train.groupBy('user_id').agg({'rating': 'mean'}).withColumnRenamed(\"avg(rating)\", \"user_mean\")\n",
    "\n",
    "# Calculate Anime Mean\n",
    "itemMeanDF = train.groupBy('anime_id').agg({'rating': 'mean'}).withColumnRenamed(\"avg(rating)\", \"item_mean\")\n",
    "\n",
    "# Calculate Global Average in Train set\n",
    "globalAverageDF = train.select(avg('rating'))\n",
    "globalAverage = globalAverageDF.collect()[0]['avg(rating)']\n",
    "\n",
    "# Adding the mean columns to train DF\n",
    "meanDF = train.join(userMeanDF, ['user_id'], \"inner\").join(itemMeanDF, ['anime_id'], \"inner\")\n",
    "\n",
    "#create final DF with user-item interaction column\n",
    "interactionDF = meanDF.withColumn('user_item_interaction', meanDF['rating']-(meanDF['user_mean'] + meanDF['item_mean'] - globalAverage))\n",
    "interactionDF.show(5)"
   ]
  },
  {
   "cell_type": "code",
   "execution_count": 25,
   "id": "53241625",
   "metadata": {},
   "outputs": [],
   "source": [
    "# Define new ALS model with ratings column as \"user_item_interaction\" \n",
    "als = ALS(maxIter=10, regParam = 0.01, userCol = \"user_id\",rank=50, itemCol = \"anime_id\", ratingCol = \"user_item_interaction\", coldStartStrategy=\"drop\")"
   ]
  },
  {
   "cell_type": "code",
   "execution_count": 26,
   "id": "000afe85-869a-4cbb-ac10-820c55d5c465",
   "metadata": {},
   "outputs": [],
   "source": [
    "# Define evaluator as RMSE for the prediction in last step\n",
    "evaluator = RegressionEvaluator(metricName=\"rmse\", labelCol=\"rating\", predictionCol=\"prediction\") "
   ]
  },
  {
   "cell_type": "code",
   "execution_count": null,
   "id": "21195368-fa9f-4acc-826a-35427b58757c",
   "metadata": {},
   "outputs": [
    {
     "name": "stderr",
     "output_type": "stream",
     "text": [
      "                                                                                \r"
     ]
    }
   ],
   "source": [
    "# Train the model with biased values\n",
    "model = als.fit(interactionDF)"
   ]
  },
  {
   "cell_type": "code",
   "execution_count": null,
   "id": "993d979a-2857-464e-b37b-16dede8ed83d",
   "metadata": {},
   "outputs": [
    {
     "name": "stderr",
     "output_type": "stream",
     "text": [
      "                                                                                \r"
     ]
    },
    {
     "name": "stdout",
     "output_type": "stream",
     "text": [
      "+-------+--------+------+----------+\n",
      "|user_id|anime_id|rating|prediction|\n",
      "+-------+--------+------+----------+\n",
      "|     27|     245|   9.0| -0.741231|\n",
      "|     27|     277|   9.0| 1.4521339|\n",
      "|     27|     863|   8.0| 1.2890853|\n",
      "|     27|    5114|   8.0|0.10490359|\n",
      "|     27|   10589|   9.0| 0.8653243|\n",
      "+-------+--------+------+----------+\n",
      "only showing top 5 rows\n",
      "\n"
     ]
    }
   ],
   "source": [
    "# Get the predictions from trained model\n",
    "test_predictions = model.transform(test)\n",
    "test_predictions.show(5)\n",
    "# Predicitons are made by ALS model on user-item interaction column generated earlier"
   ]
  },
  {
   "cell_type": "code",
   "execution_count": null,
   "id": "97bd8b6c-1f31-43df-bc74-2a987e5eb1d3",
   "metadata": {},
   "outputs": [
    {
     "name": "stderr",
     "output_type": "stream",
     "text": [
      "                                                                                \r"
     ]
    },
    {
     "name": "stdout",
     "output_type": "stream",
     "text": [
      "11531950\n"
     ]
    },
    {
     "name": "stderr",
     "output_type": "stream",
     "text": [
      "                                                                                \r"
     ]
    },
    {
     "name": "stdout",
     "output_type": "stream",
     "text": [
      "+--------+-------+------+------------------+-----------------+-----------------+\n",
      "|anime_id|user_id|rating|        prediction|        user_mean|        item_mean|\n",
      "+--------+-------+------+------------------+-----------------+-----------------+\n",
      "|      20|    148|  10.0|7.4117683142939095|7.443037974683544|7.787858606040424|\n",
      "|     181|    148|   9.0| 7.939841626944671|7.443037974683544|7.541176470588235|\n",
      "|    4437|    148|   8.0| 5.452700432666089|7.443037974683544|7.253777861730261|\n",
      "|    4654|    148|   7.0| 6.413008330877088|7.443037974683544|7.608257951561132|\n",
      "|    4752|    148|   7.0| 7.241840309069352|7.443037974683544|7.402285645180796|\n",
      "+--------+-------+------+------------------+-----------------+-----------------+\n",
      "only showing top 5 rows\n",
      "\n"
     ]
    },
    {
     "name": "stderr",
     "output_type": "stream",
     "text": [
      "[Stage 690:===============================>                         (5 + 4) / 9]\r"
     ]
    },
    {
     "name": "stdout",
     "output_type": "stream",
     "text": [
      "1.1691393159883732\n"
     ]
    },
    {
     "name": "stderr",
     "output_type": "stream",
     "text": [
      "                                                                                \r"
     ]
    }
   ],
   "source": [
    "# This cell returns the RMSE of recommendations obtained using ALS + biases\n",
    "\n",
    "# Adding Mean columns to predictions DataFrame\n",
    "predictionsWithMean = test_predictions.join(userMeanDF, ['user_id'], \"inner\").join(itemMeanDF, ['anime_id'], \"inner\")\n",
    "\n",
    "\n",
    "# Recomputing the predicted rating with the formula *rating +user_mean + item_mean- globalAverage rating\n",
    "calculatedPredictionDF = predictionsWithMean.withColumn('prediction', predictionsWithMean['prediction'] +\\\n",
    "                                                            predictionsWithMean['user_mean'] + predictionsWithMean['item_mean'] - globalAverage)\n",
    "\n",
    "print(calculatedPredictionDF.count())\n",
    "# 'Prediction' Column contains predicted rating\n",
    "calculatedPredictionDF.show(5)\n",
    "\n",
    "# The RMSE compares the 'rating' (original rating) column and the 'predicition' (predicted rating) column\n",
    "RMSE = evaluator.evaluate(calculatedPredictionDF)\n",
    "print(RMSE)"
   ]
  },
  {
   "cell_type": "code",
   "execution_count": null,
   "id": "fc05322a-fa56-4840-86bf-9103450f6d0d",
   "metadata": {},
   "outputs": [
    {
     "name": "stderr",
     "output_type": "stream",
     "text": [
      "[Stage 717:=====================================================>(99 + 1) / 100]\r"
     ]
    },
    {
     "name": "stdout",
     "output_type": "stream",
     "text": [
      "+-------+--------------------+\n",
      "|user_id|     recommendations|\n",
      "+-------+--------------------+\n",
      "|     27|[{16007, 9.402412...|\n",
      "|     28|[{23129, 7.471186...|\n",
      "|     34|[{10627, 6.565496...|\n",
      "|     44|[{8229, 5.762766}...|\n",
      "|     53|[{38831, 6.592963...|\n",
      "|     65|[{5548, 4.460235}...|\n",
      "|     78|[{9165, 5.158185}...|\n",
      "|     81|[{3923, 3.9401214...|\n",
      "|     85|[{4933, 5.9871426...|\n",
      "|    101|[{30105, 5.004441...|\n",
      "|    103|[{6383, 10.278271...|\n",
      "|    108|[{8229, 5.0485835...|\n",
      "|    126|[{31501, 6.274219...|\n",
      "|    133|[{38262, 10.95520...|\n",
      "|    137|[{22345, 7.479967...|\n",
      "|    148|[{6907, 7.8755937...|\n",
      "|    155|[{3064, 4.4515033...|\n",
      "|    192|[{5287, 5.979623}...|\n",
      "|    193|[{11185, 6.443105...|\n",
      "|    210|[{16371, 9.862499...|\n",
      "+-------+--------------------+\n",
      "only showing top 20 rows\n",
      "\n"
     ]
    },
    {
     "name": "stderr",
     "output_type": "stream",
     "text": [
      "                                                                                \r"
     ]
    }
   ],
   "source": [
    "# Generate top 5 movie recommendations for each user\n",
    "nrecommendations = model.recommendForAllUsers(5)\n",
    "nrecommendations.show()\n"
   ]
  },
  {
   "cell_type": "code",
   "execution_count": null,
   "id": "d69685cb",
   "metadata": {},
   "outputs": [
    {
     "name": "stderr",
     "output_type": "stream",
     "text": [
      "[Stage 770:=====================================================>(99 + 1) / 100]\r"
     ]
    },
    {
     "name": "stdout",
     "output_type": "stream",
     "text": [
      "+-------+--------+---------+\n",
      "|user_id|anime_id|   rating|\n",
      "+-------+--------+---------+\n",
      "|     27|   16007| 9.402412|\n",
      "|     27|   39020|9.2056875|\n",
      "|     27|   42054| 8.915375|\n",
      "|     27|   35135| 8.359258|\n",
      "|     27|   13207| 8.235939|\n",
      "|     28|   23129| 7.471186|\n",
      "|     28|    6015|6.6924553|\n",
      "|     28|    4497|6.4552903|\n",
      "|     28|   36745| 5.714433|\n",
      "|     28|    9254| 5.618196|\n",
      "|     34|   10627|6.5654964|\n",
      "|     34|   14537| 5.750683|\n",
      "|     34|   33493| 5.688402|\n",
      "|     34|   29956|5.6818132|\n",
      "|     34|   39231|5.6666665|\n",
      "|     44|    8229| 5.762766|\n",
      "|     44|   34631|3.3578863|\n",
      "|     44|   30105|3.3525047|\n",
      "|     44|   40358|3.2648926|\n",
      "|     44|    5201|3.2559705|\n",
      "+-------+--------+---------+\n",
      "only showing top 20 rows\n",
      "\n"
     ]
    },
    {
     "name": "stderr",
     "output_type": "stream",
     "text": [
      "                                                                                \r"
     ]
    }
   ],
   "source": [
    "# Exploding the 'recommendations' column containing anime_id and list of ratings of recommended animes to get rows with single recommendations\n",
    "import pyspark.sql.functions as F\n",
    "nrecommendations = nrecommendations.withColumn(\"rec_exp\", F.explode(\"recommendations\"))\\\n",
    "    .select('user_id', F.col(\"rec_exp.anime_id\"), F.col(\"rec_exp.rating\"))\n",
    "nrecommendations.show()"
   ]
  },
  {
   "cell_type": "code",
   "execution_count": null,
   "id": "14fac3d7-4119-480a-a812-5c652d2117d4",
   "metadata": {},
   "outputs": [],
   "source": [
    "# Converting recommendations into readable format by adding anime name and genres\n",
    "# Importing anime.csv which contains anime_id, Name and Genres\n",
    "anime = spark.read.csv(\"gs://big_datat/anime.csv\",header=True)\n",
    "anime = anime.withColumn('MAL_ID', F.col('MAL_ID').cast('integer'))\n",
    "anime = anime.withColumnRenamed('MAL_ID', 'anime_id')\n",
    "anime = anime.select(F.col(\"anime_id\"),F.col(\"Name\"), F.col(\"Genres\"))"
   ]
  },
  {
   "cell_type": "code",
   "execution_count": 34,
   "id": "a4b30071-1a3e-4449-ab1d-9f650d7aa88c",
   "metadata": {},
   "outputs": [
    {
     "name": "stderr",
     "output_type": "stream",
     "text": [
      "                                                                                \r"
     ]
    },
    {
     "name": "stdout",
     "output_type": "stream",
     "text": [
      "+--------+-------+---------+---------------------------------+--------------------------------------------+\n",
      "|anime_id|user_id|rating   |Name                             |Genres                                      |\n",
      "+--------+-------+---------+---------------------------------+--------------------------------------------+\n",
      "|9106    |68042  |7.4559608|Nogsaegjeoncha Hamos             |Action, Adventure, Fantasy, Shounen         |\n",
      "|28347   |68042  |7.368685 |Guitar Shoujo!                   |Slice of Life                               |\n",
      "|10202   |68042  |7.3120904|Kamen Rider Den-O: Imagin Anime 3|Action, Adventure, Comedy, Kids, Super Power|\n",
      "|16608   |68042  |7.2097125|Shitcom                          |Comedy, Romance                             |\n",
      "|29953   |68042  |7.1136403|Phantasm                         |Dementia, Music                             |\n",
      "+--------+-------+---------+---------------------------------+--------------------------------------------+\n",
      "\n"
     ]
    },
    {
     "name": "stderr",
     "output_type": "stream",
     "text": [
      "[Stage 910:============================>                            (4 + 4) / 8]\r"
     ]
    },
    {
     "name": "stdout",
     "output_type": "stream",
     "text": [
      "+--------+-------+------+------------------------------------------+------------------------------------------------------------------------------------------+\n",
      "|anime_id|user_id|rating|Name                                      |Genres                                                                                    |\n",
      "+--------+-------+------+------------------------------------------+------------------------------------------------------------------------------------------+\n",
      "|2251    |68042  |10.0  |Baccano!                                  |Action, Comedy, Historical, Mystery, Supernatural                                         |\n",
      "|1535    |68042  |10.0  |Death Note                                |Mystery, Police, Psychological, Supernatural, Thriller, Shounen                           |\n",
      "|47      |68042  |10.0  |Akira                                     |Action, Military, Sci-Fi, Adventure, Horror, Supernatural, Seinen                         |\n",
      "|339     |68042  |10.0  |Serial Experiments Lain                   |Dementia, Drama, Mystery, Psychological, Sci-Fi, Supernatural                             |\n",
      "|2001    |68042  |10.0  |Tengen Toppa Gurren Lagann                |Action, Adventure, Comedy, Mecha, Sci-Fi                                                  |\n",
      "|227     |68042  |10.0  |FLCL                                      |Action, Sci-Fi, Comedy, Parody, Dementia, Psychological, Mecha                            |\n",
      "|820     |68042  |10.0  |Ginga Eiyuu Densetsu                      |Military, Sci-Fi, Space, Drama                                                            |\n",
      "|11061   |68042  |10.0  |Hunter x Hunter (2011)                    |Action, Adventure, Fantasy, Shounen, Super Power                                          |\n",
      "|19      |68042  |10.0  |Monster                                   |Drama, Horror, Mystery, Police, Psychological, Seinen, Thriller                           |\n",
      "|2246    |68042  |10.0  |Mononoke                                  |Mystery, Historical, Horror, Demons, Psychological, Supernatural, Fantasy, Seinen         |\n",
      "|5081    |68042  |10.0  |Bakemonogatari                            |Romance, Supernatural, Mystery, Vampire                                                   |\n",
      "|239     |68042  |10.0  |Gankutsuou                                |Drama, Mystery, Sci-Fi, Supernatural, Thriller                                            |\n",
      "|33      |68042  |10.0  |Kenpuu Denki Berserk                      |Action, Adventure, Demons, Drama, Fantasy, Horror, Military, Romance, Seinen, Supernatural|\n",
      "|1       |68042  |10.0  |Cowboy Bebop                              |Action, Adventure, Comedy, Drama, Sci-Fi, Space                                           |\n",
      "|3927    |68042  |9.0   |Mobile Suit Gundam 00 Second Season       |Action, Drama, Mecha, Military, Sci-Fi, Space                                             |\n",
      "|32796   |68042  |9.0   |Shenmi Shijie Lixian Ji                   |Adventure, Comedy, Fantasy                                                                |\n",
      "|82      |68042  |9.0   |Mobile Suit Gundam 0080: War in the Pocket|Military, Sci-Fi, Space, Drama, Mecha                                                     |\n",
      "|22297   |68042  |9.0   |Fate/stay night: Unlimited Blade Works    |Action, Fantasy, Magic, Supernatural                                                      |\n",
      "|15787   |68042  |9.0   |Backstage Idol Story                      |Music                                                                                     |\n",
      "|1066    |68042  |9.0   |Shakugan no Shana-tan                     |Comedy, Parody                                                                            |\n",
      "+--------+-------+------+------------------------------------------+------------------------------------------------------------------------------------------+\n",
      "only showing top 20 rows\n",
      "\n"
     ]
    },
    {
     "name": "stderr",
     "output_type": "stream",
     "text": [
      "                                                                                \r"
     ]
    }
   ],
   "source": [
    "# User’s ALS Recommendations:\n",
    "\n",
    "# Joining recommended movies for the given user_id with anime dataframe to display recommendations in more readable format\n",
    "nrecommendations.join(anime, on='anime_id').filter('user_id = 68042').show(truncate=False)\n",
    "\n",
    "# User’s Actual Preference:\n",
    "# Showing user's actual preference for comparison\n",
    "ratings.join(anime, on='anime_id').filter('user_id = 68042').sort('rating', ascending=False).show(truncate=False)"
   ]
  },
  {
   "cell_type": "code",
   "execution_count": null,
   "id": "ce1c3990-b3b7-4916-866a-7ffdb679ade1",
   "metadata": {},
   "outputs": [],
   "source": []
  }
 ],
 "metadata": {
  "kernelspec": {
   "display_name": "Python 3 (ipykernel)",
   "language": "python",
   "name": "python3"
  },
  "language_info": {
   "codemirror_mode": {
    "name": "ipython",
    "version": 3
   },
   "file_extension": ".py",
   "mimetype": "text/x-python",
   "name": "python",
   "nbconvert_exporter": "python",
   "pygments_lexer": "ipython3",
   "version": "3.8.12"
  }
 },
 "nbformat": 4,
 "nbformat_minor": 5
}
